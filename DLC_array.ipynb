{
 "cells": [
  {
   "cell_type": "code",
   "execution_count": null,
   "metadata": {},
   "outputs": [],
   "source": [
    "import pandas as pd\n",
    "\n",
    "\"\"\" Lib to convert DLC dataframe into easier to manage dataframe\"\"\"\n",
    "class DLC_translate:\n",
    "    def __init__(self):\n",
    "        self.prev_file=prev_file\n",
    "        if self.prev_file=None:\n",
    "            dataframe=pd.DataFrame()\n",
    "        else:\n",
    "            dataframe=pd.read_hdf(prev_file)\n",
    "        self.trial_df=pd.DataFrame()\n",
    "        self.filename=filename\n",
    "        self.main()\n",
    "        \n",
    "    def load_dataframe_DLC(self):\n",
    "    self.df=pd.read_hdf(self.filename)\n",
    "    self.df.columns=self.df.columns.droplevel(0)\n",
    "    def split_dataframe(self):\n",
    "        # Note, I need to generate keys here, assign to self.keys()\n",
    "        for idx, data in self.df.groupby(level=0):\n",
    "            self.trial_df=pd.concat([self.trial_df,data],axis=1)# appends new data column onto frame\n",
    "    def merge_dataframe(self):\n",
    "        if self.prev_file=None:\n",
    "            pass\n",
    "        else:\n",
    "            #save_df=pd.concat([dataframe, trial_df])\n",
    "            pass\n",
    "    def save_dataframe(self):\n",
    "        if self.prev_file=None:\n",
    "            trial_df.to_hdf('DLC.h5',self.keys,table=True,mode='a')\n",
    "        else:\n",
    "            save_df.to_hdf('DLC.h5',self.keys,table=True,mode='a')\n",
    "    def main(self):\n",
    "        self.load_dataframe_DLC()\n",
    "        self.split_dataframe()\n",
    "        #self.merge_dataframe()\n",
    "        self.save_dataframe()\n",
    "        \n",
    "        \n"
   ]
  }
 ],
 "metadata": {
  "kernelspec": {
   "display_name": "Python [conda env:deeplabcut] *",
   "language": "python",
   "name": "conda-env-deeplabcut-py"
  },
  "language_info": {
   "codemirror_mode": {
    "name": "ipython",
    "version": 3
   },
   "file_extension": ".py",
   "mimetype": "text/x-python",
   "name": "python",
   "nbconvert_exporter": "python",
   "pygments_lexer": "ipython3",
   "version": "3.6.8"
  }
 },
 "nbformat": 4,
 "nbformat_minor": 2
}
