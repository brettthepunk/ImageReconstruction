{
 "cells": [
  {
   "cell_type": "code",
   "execution_count": 9,
   "metadata": {},
   "outputs": [],
   "source": [
    "import pickle\n",
    "import numpy as np\n",
    "import matplotlib.pyplot as plot\n",
    "import os\n",
    "import pandas as pd\n"
   ]
  },
  {
   "cell_type": "code",
   "execution_count": 3,
   "metadata": {},
   "outputs": [],
   "source": [
    "# for push to git, add files and remove paths..\n",
    "\n",
    "pickledir='/home/kallanved/tracking/deeplabcut/'\n",
    "os.chdir(pickledir)\n",
    "fname=\"trial_ 15DeepCut_resnet50_With_OcclusionsJun7shuffle1_600000includingmetadata.pickle\"\n",
    "import pickle\n",
    "with open(fname, \"rb\") as input_file:\n",
    "    e = pickle.load(input_file)\n",
    "    \n",
    "    \n"
   ]
  },
  {
   "cell_type": "code",
   "execution_count": 5,
   "metadata": {},
   "outputs": [
    {
     "data": {
      "text/plain": [
       "(64, 192, 12, 2)"
      ]
     },
     "execution_count": 5,
     "metadata": {},
     "output_type": "execute_result"
    }
   ],
   "source": [
    "## Write this as a function..\n",
    "\n",
    "\n",
    "scmaplocref=e['scmaplocref']\n",
    "scmaplocref.keys()\n",
    "#scmaplocref=scmaplocref[3]\n",
    "scmap=scmaplocref['scmap']\n",
    "locref=scmaplocref['locref']\n"
   ]
  },
  {
   "cell_type": "code",
   "execution_count": 6,
   "metadata": {},
   "outputs": [
    {
     "data": {
      "text/plain": [
       "(64, 192, 12)"
      ]
     },
     "execution_count": 6,
     "metadata": {},
     "output_type": "execute_result"
    }
   ],
   "source": [
    "ny,nx,num_joints = scmap.shape\n",
    "    \n",
    "    #Combine scoremat and offsets to the final pose.\n",
    "LOCREF=locref.reshape(nx*ny,num_joints,2)\n",
    "LOCREF.shape\n",
    "\n",
    "scmap.shape\n"
   ]
  },
  {
   "cell_type": "code",
   "execution_count": 10,
   "metadata": {},
   "outputs": [
    {
     "name": "stdout",
     "output_type": "stream",
     "text": [
      "(64, 192, 12) (12288, 12) (12288,)\n",
      "[ 1  3  7 ... 10 10 10]\n"
     ]
    }
   ],
   "source": [
    "screshaped=scmap.reshape((nx*ny,num_joints))\n",
    "MAXLOC = np.argmax(screshaped,axis=1)\n",
    "print(scmap.shape,screshaped.shape,MAXLOC.shape)\n",
    "print(MAXLOC)"
   ]
  },
  {
   "cell_type": "code",
   "execution_count": 12,
   "metadata": {},
   "outputs": [
    {
     "ename": "SyntaxError",
     "evalue": "invalid syntax (<ipython-input-12-8e04fab96a1d>, line 2)",
     "output_type": "error",
     "traceback": [
      "\u001b[0;36m  File \u001b[0;32m\"<ipython-input-12-8e04fab96a1d>\"\u001b[0;36m, line \u001b[0;32m2\u001b[0m\n\u001b[0;31m    for ii in range(0,(nx*ny)):\u001b[0m\n\u001b[0m                              ^\u001b[0m\n\u001b[0;31mSyntaxError\u001b[0m\u001b[0;31m:\u001b[0m invalid syntax\n"
     ]
    }
   ],
   "source": [
    "fullmap = np.empty((nx*ny,3*num_joints)\n",
    "for ii in range(0,nx*ny): \n",
    "    MAXLOC_=ii*np.ones(num_joints)\n",
    "    Y,X=np.unravel_index(MAXLOC_,dims=(ny,nx))\n",
    "    DZ=np.zeros((batchsize,num_joints,3))\n",
    "    for l in range(batchsize):\n",
    "        for k in range(num_joints):\n",
    "            DZ[l,k,:2]=LOCREF[l,MAXLOC_[l,k],k,:]\n",
    "            DZ[l,k,2]=scmap[l,Y[l,k],X[l,k],k]\n",
    "\n",
    "    X=X.astype('float32')*cfg.stride+.5*cfg.stride+DZ[:,:,0]\n",
    "    Y=Y.astype('float32')*cfg.stride+.5*cfg.stride+DZ[:,:,1]\n",
    "    fullmap[ii,0::3] = X\n",
    "    fullmap[ii,1::3] = Y\n",
    "    fullmap[ii,2::3] = DZ[:,:,2]\n",
    "    \n"
   ]
  },
  {
   "cell_type": "code",
   "execution_count": null,
   "metadata": {},
   "outputs": [],
   "source": [
    "nanX, nanY = arg(isnan(fullmap))\n",
    "predictions = 2Dinterpolate(fullmap[:,2::3],fullmap[:,0::3],fullmap[:,1::3],nanX,nanY)\n",
    "fullmap(nanX,nanY) = predictions\n",
    "# this code is for interpolation between kernel areas "
   ]
  },
  {
   "cell_type": "code",
   "execution_count": null,
   "metadata": {},
   "outputs": [],
   "source": [
    "### Visualizations\n"
   ]
  }
 ],
 "metadata": {
  "kernelspec": {
   "display_name": "Python (deeplabcut)",
   "language": "python",
   "name": "deeplabcut"
  },
  "language_info": {
   "codemirror_mode": {
    "name": "ipython",
    "version": 3
   },
   "file_extension": ".py",
   "mimetype": "text/x-python",
   "name": "python",
   "nbconvert_exporter": "python",
   "pygments_lexer": "ipython3",
   "version": "3.6.8"
  }
 },
 "nbformat": 4,
 "nbformat_minor": 2
}
